{
  "nbformat": 4,
  "nbformat_minor": 0,
  "metadata": {
    "colab": {
      "name": "Janata_TimeSeries.ipynb",
      "provenance": [],
      "collapsed_sections": [],
      "authorship_tag": "ABX9TyN6FN1iABbLfcChhxFZotGK",
      "include_colab_link": true
    },
    "kernelspec": {
      "name": "python3",
      "display_name": "Python 3"
    }
  },
  "cells": [
    {
      "cell_type": "markdown",
      "metadata": {
        "id": "view-in-github",
        "colab_type": "text"
      },
      "source": [
        "<a href=\"https://colab.research.google.com/github/Ayanlola2002/Analyticsvidyah/blob/master/Janata_TimeSeries.ipynb\" target=\"_parent\"><img src=\"https://colab.research.google.com/assets/colab-badge.svg\" alt=\"Open In Colab\"/></a>"
      ]
    },
    {
      "cell_type": "code",
      "metadata": {
        "id": "Uw1UUcf1kx8a",
        "colab_type": "code",
        "colab": {
          "base_uri": "https://localhost:8080/",
          "height": 54
        },
        "outputId": "3ba78a5e-4ac1-493f-dd88-6b0573910c76"
      },
      "source": [
        "from google.colab import drive\n",
        "drive.mount('/content/drive')"
      ],
      "execution_count": 4,
      "outputs": [
        {
          "output_type": "stream",
          "text": [
            "Drive already mounted at /content/drive; to attempt to forcibly remount, call drive.mount(\"/content/drive\", force_remount=True).\n"
          ],
          "name": "stdout"
        }
      ]
    },
    {
      "cell_type": "code",
      "metadata": {
        "id": "JFPBT3W1lHue",
        "colab_type": "code",
        "colab": {}
      },
      "source": [
        "import pandas as pd\n",
        "import numpy as np\n"
      ],
      "execution_count": 0,
      "outputs": []
    },
    {
      "cell_type": "code",
      "metadata": {
        "id": "0Ds7mUGulULG",
        "colab_type": "code",
        "colab": {}
      },
      "source": [
        "train=pd.read_csv('/content/drive/My Drive/Analytic_VidYah/train_6BJx641.csv')\n",
        "test=pd.read_csv('/content/drive/My Drive/Analytic_VidYah/test_pavJagI.csv')"
      ],
      "execution_count": 0,
      "outputs": []
    },
    {
      "cell_type": "code",
      "metadata": {
        "id": "9qfomoM9mynY",
        "colab_type": "code",
        "colab": {
          "base_uri": "https://localhost:8080/",
          "height": 779
        },
        "outputId": "b7eeefde-d3cb-4663-bf85-787577baa59b"
      },
      "source": [
        "train.head(100)"
      ],
      "execution_count": 20,
      "outputs": [
        {
          "output_type": "execute_result",
          "data": {
            "text/html": [
              "<div>\n",
              "<style scoped>\n",
              "    .dataframe tbody tr th:only-of-type {\n",
              "        vertical-align: middle;\n",
              "    }\n",
              "\n",
              "    .dataframe tbody tr th {\n",
              "        vertical-align: top;\n",
              "    }\n",
              "\n",
              "    .dataframe thead th {\n",
              "        text-align: right;\n",
              "    }\n",
              "</style>\n",
              "<table border=\"1\" class=\"dataframe\">\n",
              "  <thead>\n",
              "    <tr style=\"text-align: right;\">\n",
              "      <th></th>\n",
              "      <th>ID</th>\n",
              "      <th>datetime</th>\n",
              "      <th>temperature</th>\n",
              "      <th>var1</th>\n",
              "      <th>pressure</th>\n",
              "      <th>windspeed</th>\n",
              "      <th>var2</th>\n",
              "      <th>electricity_consumption</th>\n",
              "    </tr>\n",
              "  </thead>\n",
              "  <tbody>\n",
              "    <tr>\n",
              "      <th>0</th>\n",
              "      <td>0</td>\n",
              "      <td>2013-07-01 00:00:00</td>\n",
              "      <td>-11.4</td>\n",
              "      <td>-17.1</td>\n",
              "      <td>1003.0</td>\n",
              "      <td>571.910</td>\n",
              "      <td>A</td>\n",
              "      <td>216.0</td>\n",
              "    </tr>\n",
              "    <tr>\n",
              "      <th>1</th>\n",
              "      <td>1</td>\n",
              "      <td>2013-07-01 01:00:00</td>\n",
              "      <td>-12.1</td>\n",
              "      <td>-19.3</td>\n",
              "      <td>996.0</td>\n",
              "      <td>575.040</td>\n",
              "      <td>A</td>\n",
              "      <td>210.0</td>\n",
              "    </tr>\n",
              "    <tr>\n",
              "      <th>2</th>\n",
              "      <td>2</td>\n",
              "      <td>2013-07-01 02:00:00</td>\n",
              "      <td>-12.9</td>\n",
              "      <td>-20.0</td>\n",
              "      <td>1000.0</td>\n",
              "      <td>578.435</td>\n",
              "      <td>A</td>\n",
              "      <td>225.0</td>\n",
              "    </tr>\n",
              "    <tr>\n",
              "      <th>3</th>\n",
              "      <td>3</td>\n",
              "      <td>2013-07-01 03:00:00</td>\n",
              "      <td>-11.4</td>\n",
              "      <td>-17.1</td>\n",
              "      <td>995.0</td>\n",
              "      <td>582.580</td>\n",
              "      <td>A</td>\n",
              "      <td>216.0</td>\n",
              "    </tr>\n",
              "    <tr>\n",
              "      <th>4</th>\n",
              "      <td>4</td>\n",
              "      <td>2013-07-01 04:00:00</td>\n",
              "      <td>-11.4</td>\n",
              "      <td>-19.3</td>\n",
              "      <td>1005.0</td>\n",
              "      <td>586.600</td>\n",
              "      <td>A</td>\n",
              "      <td>222.0</td>\n",
              "    </tr>\n",
              "    <tr>\n",
              "      <th>...</th>\n",
              "      <td>...</td>\n",
              "      <td>...</td>\n",
              "      <td>...</td>\n",
              "      <td>...</td>\n",
              "      <td>...</td>\n",
              "      <td>...</td>\n",
              "      <td>...</td>\n",
              "      <td>...</td>\n",
              "    </tr>\n",
              "    <tr>\n",
              "      <th>95</th>\n",
              "      <td>95</td>\n",
              "      <td>2013-07-04 23:00:00</td>\n",
              "      <td>-5.7</td>\n",
              "      <td>-15.0</td>\n",
              "      <td>1008.0</td>\n",
              "      <td>68.235</td>\n",
              "      <td>A</td>\n",
              "      <td>231.0</td>\n",
              "    </tr>\n",
              "    <tr>\n",
              "      <th>96</th>\n",
              "      <td>96</td>\n",
              "      <td>2013-07-05 00:00:00</td>\n",
              "      <td>-8.6</td>\n",
              "      <td>-15.7</td>\n",
              "      <td>993.0</td>\n",
              "      <td>77.425</td>\n",
              "      <td>A</td>\n",
              "      <td>228.0</td>\n",
              "    </tr>\n",
              "    <tr>\n",
              "      <th>97</th>\n",
              "      <td>97</td>\n",
              "      <td>2013-07-05 01:00:00</td>\n",
              "      <td>-6.4</td>\n",
              "      <td>-16.4</td>\n",
              "      <td>997.0</td>\n",
              "      <td>86.255</td>\n",
              "      <td>A</td>\n",
              "      <td>210.0</td>\n",
              "    </tr>\n",
              "    <tr>\n",
              "      <th>98</th>\n",
              "      <td>98</td>\n",
              "      <td>2013-07-05 02:00:00</td>\n",
              "      <td>-7.9</td>\n",
              "      <td>-18.6</td>\n",
              "      <td>991.0</td>\n",
              "      <td>95.960</td>\n",
              "      <td>A</td>\n",
              "      <td>213.0</td>\n",
              "    </tr>\n",
              "    <tr>\n",
              "      <th>99</th>\n",
              "      <td>99</td>\n",
              "      <td>2013-07-05 03:00:00</td>\n",
              "      <td>-7.9</td>\n",
              "      <td>-17.9</td>\n",
              "      <td>991.0</td>\n",
              "      <td>105.900</td>\n",
              "      <td>A</td>\n",
              "      <td>213.0</td>\n",
              "    </tr>\n",
              "  </tbody>\n",
              "</table>\n",
              "<p>100 rows × 8 columns</p>\n",
              "</div>"
            ],
            "text/plain": [
              "    ID             datetime  ...  var2  electricity_consumption\n",
              "0    0  2013-07-01 00:00:00  ...     A                    216.0\n",
              "1    1  2013-07-01 01:00:00  ...     A                    210.0\n",
              "2    2  2013-07-01 02:00:00  ...     A                    225.0\n",
              "3    3  2013-07-01 03:00:00  ...     A                    216.0\n",
              "4    4  2013-07-01 04:00:00  ...     A                    222.0\n",
              "..  ..                  ...  ...   ...                      ...\n",
              "95  95  2013-07-04 23:00:00  ...     A                    231.0\n",
              "96  96  2013-07-05 00:00:00  ...     A                    228.0\n",
              "97  97  2013-07-05 01:00:00  ...     A                    210.0\n",
              "98  98  2013-07-05 02:00:00  ...     A                    213.0\n",
              "99  99  2013-07-05 03:00:00  ...     A                    213.0\n",
              "\n",
              "[100 rows x 8 columns]"
            ]
          },
          "metadata": {
            "tags": []
          },
          "execution_count": 20
        }
      ]
    },
    {
      "cell_type": "code",
      "metadata": {
        "id": "02yWytqdnHJL",
        "colab_type": "code",
        "colab": {
          "base_uri": "https://localhost:8080/",
          "height": 51
        },
        "outputId": "5d3a667e-81c1-44bb-8174-0d6f2c10a2c2"
      },
      "source": [
        "print(train.shape)\n",
        "print(test.shape)"
      ],
      "execution_count": 12,
      "outputs": [
        {
          "output_type": "stream",
          "text": [
            "(26496, 8)\n",
            "(8568, 7)\n"
          ],
          "name": "stdout"
        }
      ]
    },
    {
      "cell_type": "code",
      "metadata": {
        "id": "6iMoMgI0nTQT",
        "colab_type": "code",
        "colab": {
          "base_uri": "https://localhost:8080/",
          "height": 272
        },
        "outputId": "14f5f5a7-6243-4fb1-ecbd-79d2e6102a83"
      },
      "source": [
        "train.info()"
      ],
      "execution_count": 13,
      "outputs": [
        {
          "output_type": "stream",
          "text": [
            "<class 'pandas.core.frame.DataFrame'>\n",
            "RangeIndex: 26496 entries, 0 to 26495\n",
            "Data columns (total 8 columns):\n",
            " #   Column                   Non-Null Count  Dtype  \n",
            "---  ------                   --------------  -----  \n",
            " 0   ID                       26496 non-null  int64  \n",
            " 1   datetime                 26496 non-null  object \n",
            " 2   temperature              26496 non-null  float64\n",
            " 3   var1                     26496 non-null  float64\n",
            " 4   pressure                 26496 non-null  float64\n",
            " 5   windspeed                26496 non-null  float64\n",
            " 6   var2                     26496 non-null  object \n",
            " 7   electricity_consumption  26496 non-null  float64\n",
            "dtypes: float64(5), int64(1), object(2)\n",
            "memory usage: 1.6+ MB\n"
          ],
          "name": "stdout"
        }
      ]
    },
    {
      "cell_type": "code",
      "metadata": {
        "id": "7zbLU6cdnAzs",
        "colab_type": "code",
        "colab": {}
      },
      "source": [
        "#temperature can be converted to fareiheiht to change values of temp to negative\n",
        "#extract month,year,day,hours from the datetime\n",
        "#can pressure and windspeed be grouped ?if so grouped them into categories high,low etc\n"
      ],
      "execution_count": 0,
      "outputs": []
    },
    {
      "cell_type": "code",
      "metadata": {
        "id": "PXxcA2qFnybF",
        "colab_type": "code",
        "colab": {
          "base_uri": "https://localhost:8080/",
          "height": 170
        },
        "outputId": "2214c9ca-4770-428e-99d8-1ead5bbf03f2"
      },
      "source": [
        "train.isnull().sum()"
      ],
      "execution_count": 14,
      "outputs": [
        {
          "output_type": "execute_result",
          "data": {
            "text/plain": [
              "ID                         0\n",
              "datetime                   0\n",
              "temperature                0\n",
              "var1                       0\n",
              "pressure                   0\n",
              "windspeed                  0\n",
              "var2                       0\n",
              "electricity_consumption    0\n",
              "dtype: int64"
            ]
          },
          "metadata": {
            "tags": []
          },
          "execution_count": 14
        }
      ]
    },
    {
      "cell_type": "code",
      "metadata": {
        "id": "eLTdWCKsn3I5",
        "colab_type": "code",
        "colab": {
          "base_uri": "https://localhost:8080/",
          "height": 153
        },
        "outputId": "3ea05098-75c5-49f0-c258-bae507c014d9"
      },
      "source": [
        "test.isnull().sum()"
      ],
      "execution_count": 15,
      "outputs": [
        {
          "output_type": "execute_result",
          "data": {
            "text/plain": [
              "ID             0\n",
              "datetime       0\n",
              "temperature    0\n",
              "var1           0\n",
              "pressure       0\n",
              "windspeed      0\n",
              "var2           0\n",
              "dtype: int64"
            ]
          },
          "metadata": {
            "tags": []
          },
          "execution_count": 15
        }
      ]
    },
    {
      "cell_type": "code",
      "metadata": {
        "id": "vAz_mT5voCgx",
        "colab_type": "code",
        "colab": {
          "base_uri": "https://localhost:8080/",
          "height": 221
        },
        "outputId": "7c9f3d3f-a7f0-464d-efe4-4368cf31d359"
      },
      "source": [
        "train['var1'].value_counts()"
      ],
      "execution_count": 18,
      "outputs": [
        {
          "output_type": "execute_result",
          "data": {
            "text/plain": [
              " 10.0    836\n",
              " 8.6     809\n",
              " 10.7    797\n",
              " 7.9     779\n",
              " 9.3     770\n",
              "        ... \n",
              "-29.3      3\n",
              " 17.9      2\n",
              "-32.9      1\n",
              " 18.6      1\n",
              "-32.1      1\n",
              "Name: var1, Length: 71, dtype: int64"
            ]
          },
          "metadata": {
            "tags": []
          },
          "execution_count": 18
        }
      ]
    },
    {
      "cell_type": "code",
      "metadata": {
        "id": "ObwQeKFbo_hj",
        "colab_type": "code",
        "colab": {
          "base_uri": "https://localhost:8080/",
          "height": 85
        },
        "outputId": "c95378e1-bdd0-4c98-8f79-859ac484467d"
      },
      "source": [
        "#This is ok,label encoding\n",
        "train['var2'].value_counts()"
      ],
      "execution_count": 19,
      "outputs": [
        {
          "output_type": "execute_result",
          "data": {
            "text/plain": [
              "A    25239\n",
              "C     1040\n",
              "B      217\n",
              "Name: var2, dtype: int64"
            ]
          },
          "metadata": {
            "tags": []
          },
          "execution_count": 19
        }
      ]
    }
  ]
}