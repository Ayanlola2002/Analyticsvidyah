{
  "nbformat": 4,
  "nbformat_minor": 0,
  "metadata": {
    "colab": {
      "name": "vehicle_loan2",
      "version": "0.3.2",
      "provenance": [],
      "collapsed_sections": [],
      "include_colab_link": true
    },
    "kernelspec": {
      "name": "python3",
      "display_name": "Python 3"
    }
  },
  "cells": [
    {
      "cell_type": "markdown",
      "metadata": {
        "id": "view-in-github",
        "colab_type": "text"
      },
      "source": [
        "<a href=\"https://colab.research.google.com/github/Ayanlola2002/Analyticsvidyah/blob/LoanDefault_Hackhaton/vehicle_loan2.ipynb\" target=\"_parent\"><img src=\"https://colab.research.google.com/assets/colab-badge.svg\" alt=\"Open In Colab\"/></a>"
      ]
    },
    {
      "metadata": {
        "id": "jCjczJ3UpBUD",
        "colab_type": "code",
        "colab": {}
      },
      "cell_type": "code",
      "source": [
        "#load important libraries\n",
        "import pandas as pd \n",
        "import numpy as np                    \n",
        "import seaborn as sns                  \n",
        "import matplotlib.pyplot as plt      \n",
        "import warnings                       "
      ],
      "execution_count": 0,
      "outputs": []
    },
    {
      "metadata": {
        "id": "9h3M9nWepKKh",
        "colab_type": "code",
        "colab": {}
      },
      "cell_type": "code",
      "source": [
        "#unzipping the train folder\n",
        "from shutil import unpack_archive\n",
        "unpack_archive('train_aox2Jxw.zip')"
      ],
      "execution_count": 0,
      "outputs": []
    },
    {
      "metadata": {
        "id": "7gIvtR0oqRvi",
        "colab_type": "code",
        "colab": {}
      },
      "cell_type": "code",
      "source": [
        "# reading the data\n",
        "train_Data = pd.read_csv('train.csv')\n",
        "test_Data = pd.read_csv('test_bqCt9Pv.csv')"
      ],
      "execution_count": 0,
      "outputs": []
    },
    {
      "metadata": {
        "id": "JqKseg_xrmW9",
        "colab_type": "code",
        "colab": {}
      },
      "cell_type": "code",
      "source": [
        "train_original=train_Data.copy()\n",
        "test_original=test_Data.copy()"
      ],
      "execution_count": 0,
      "outputs": []
    },
    {
      "metadata": {
        "id": "dlncVnrwsFFX",
        "colab_type": "code",
        "outputId": "dae8af78-7202-4d45-c90b-df40f1737bf0",
        "colab": {
          "base_uri": "https://localhost:8080/",
          "height": 255
        }
      },
      "cell_type": "code",
      "source": [
        "train_Data.columns\n"
      ],
      "execution_count": 30,
      "outputs": [
        {
          "output_type": "execute_result",
          "data": {
            "text/plain": [
              "Index(['UniqueID', 'disbursed_amount', 'asset_cost', 'ltv', 'branch_id',\n",
              "       'supplier_id', 'manufacturer_id', 'Current_pincode_ID', 'Date.of.Birth',\n",
              "       'Employment.Type', 'DisbursalDate', 'State_ID', 'Employee_code_ID',\n",
              "       'MobileNo_Avl_Flag', 'Aadhar_flag', 'PAN_flag', 'VoterID_flag',\n",
              "       'Driving_flag', 'Passport_flag', 'PERFORM_CNS.SCORE',\n",
              "       'PERFORM_CNS.SCORE.DESCRIPTION', 'PRI.NO.OF.ACCTS', 'PRI.ACTIVE.ACCTS',\n",
              "       'PRI.OVERDUE.ACCTS', 'PRI.CURRENT.BALANCE', 'PRI.SANCTIONED.AMOUNT',\n",
              "       'PRI.DISBURSED.AMOUNT', 'SEC.NO.OF.ACCTS', 'SEC.ACTIVE.ACCTS',\n",
              "       'SEC.OVERDUE.ACCTS', 'SEC.CURRENT.BALANCE', 'SEC.SANCTIONED.AMOUNT',\n",
              "       'SEC.DISBURSED.AMOUNT', 'PRIMARY.INSTAL.AMT', 'SEC.INSTAL.AMT',\n",
              "       'NEW.ACCTS.IN.LAST.SIX.MONTHS', 'DELINQUENT.ACCTS.IN.LAST.SIX.MONTHS',\n",
              "       'AVERAGE.ACCT.AGE', 'CREDIT.HISTORY.LENGTH', 'NO.OF_INQUIRIES',\n",
              "       'loan_default'],\n",
              "      dtype='object')"
            ]
          },
          "metadata": {
            "tags": []
          },
          "execution_count": 30
        }
      ]
    },
    {
      "metadata": {
        "id": "rcsUma6fsXzi",
        "colab_type": "code",
        "outputId": "b2510887-601b-4a13-e415-14cf307d0bd1",
        "colab": {
          "base_uri": "https://localhost:8080/",
          "height": 238
        }
      },
      "cell_type": "code",
      "source": [
        "test_Data.columns"
      ],
      "execution_count": 31,
      "outputs": [
        {
          "output_type": "execute_result",
          "data": {
            "text/plain": [
              "Index(['UniqueID', 'disbursed_amount', 'asset_cost', 'ltv', 'branch_id',\n",
              "       'supplier_id', 'manufacturer_id', 'Current_pincode_ID', 'Date.of.Birth',\n",
              "       'Employment.Type', 'DisbursalDate', 'State_ID', 'Employee_code_ID',\n",
              "       'MobileNo_Avl_Flag', 'Aadhar_flag', 'PAN_flag', 'VoterID_flag',\n",
              "       'Driving_flag', 'Passport_flag', 'PERFORM_CNS.SCORE',\n",
              "       'PERFORM_CNS.SCORE.DESCRIPTION', 'PRI.NO.OF.ACCTS', 'PRI.ACTIVE.ACCTS',\n",
              "       'PRI.OVERDUE.ACCTS', 'PRI.CURRENT.BALANCE', 'PRI.SANCTIONED.AMOUNT',\n",
              "       'PRI.DISBURSED.AMOUNT', 'SEC.NO.OF.ACCTS', 'SEC.ACTIVE.ACCTS',\n",
              "       'SEC.OVERDUE.ACCTS', 'SEC.CURRENT.BALANCE', 'SEC.SANCTIONED.AMOUNT',\n",
              "       'SEC.DISBURSED.AMOUNT', 'PRIMARY.INSTAL.AMT', 'SEC.INSTAL.AMT',\n",
              "       'NEW.ACCTS.IN.LAST.SIX.MONTHS', 'DELINQUENT.ACCTS.IN.LAST.SIX.MONTHS',\n",
              "       'AVERAGE.ACCT.AGE', 'CREDIT.HISTORY.LENGTH', 'NO.OF_INQUIRIES'],\n",
              "      dtype='object')"
            ]
          },
          "metadata": {
            "tags": []
          },
          "execution_count": 31
        }
      ]
    },
    {
      "metadata": {
        "id": "kSxyXR9Msp84",
        "colab_type": "code",
        "outputId": "46e9555f-6a60-494d-a41d-ee6896ac6d29",
        "colab": {
          "base_uri": "https://localhost:8080/",
          "height": 731
        }
      },
      "cell_type": "code",
      "source": [
        "train_Data.dtypes"
      ],
      "execution_count": 32,
      "outputs": [
        {
          "output_type": "execute_result",
          "data": {
            "text/plain": [
              "UniqueID                                 int64\n",
              "disbursed_amount                         int64\n",
              "asset_cost                               int64\n",
              "ltv                                    float64\n",
              "branch_id                                int64\n",
              "supplier_id                              int64\n",
              "manufacturer_id                          int64\n",
              "Current_pincode_ID                       int64\n",
              "Date.of.Birth                           object\n",
              "Employment.Type                         object\n",
              "DisbursalDate                           object\n",
              "State_ID                                 int64\n",
              "Employee_code_ID                         int64\n",
              "MobileNo_Avl_Flag                        int64\n",
              "Aadhar_flag                              int64\n",
              "PAN_flag                                 int64\n",
              "VoterID_flag                             int64\n",
              "Driving_flag                             int64\n",
              "Passport_flag                            int64\n",
              "PERFORM_CNS.SCORE                        int64\n",
              "PERFORM_CNS.SCORE.DESCRIPTION           object\n",
              "PRI.NO.OF.ACCTS                          int64\n",
              "PRI.ACTIVE.ACCTS                         int64\n",
              "PRI.OVERDUE.ACCTS                        int64\n",
              "PRI.CURRENT.BALANCE                      int64\n",
              "PRI.SANCTIONED.AMOUNT                    int64\n",
              "PRI.DISBURSED.AMOUNT                     int64\n",
              "SEC.NO.OF.ACCTS                          int64\n",
              "SEC.ACTIVE.ACCTS                         int64\n",
              "SEC.OVERDUE.ACCTS                        int64\n",
              "SEC.CURRENT.BALANCE                      int64\n",
              "SEC.SANCTIONED.AMOUNT                    int64\n",
              "SEC.DISBURSED.AMOUNT                     int64\n",
              "PRIMARY.INSTAL.AMT                       int64\n",
              "SEC.INSTAL.AMT                           int64\n",
              "NEW.ACCTS.IN.LAST.SIX.MONTHS             int64\n",
              "DELINQUENT.ACCTS.IN.LAST.SIX.MONTHS      int64\n",
              "AVERAGE.ACCT.AGE                        object\n",
              "CREDIT.HISTORY.LENGTH                   object\n",
              "NO.OF_INQUIRIES                          int64\n",
              "loan_default                             int64\n",
              "dtype: object"
            ]
          },
          "metadata": {
            "tags": []
          },
          "execution_count": 32
        }
      ]
    },
    {
      "metadata": {
        "id": "HmjW8SUBb36w",
        "colab_type": "code",
        "colab": {
          "base_uri": "https://localhost:8080/",
          "height": 136
        },
        "outputId": "d5ba6173-16b2-4a5a-feae-7a19d6899433"
      },
      "cell_type": "code",
      "source": [
        "train_Data.select_dtypes(include=['object']).dtypes\n",
        "#train_Data.info()"
      ],
      "execution_count": 33,
      "outputs": [
        {
          "output_type": "execute_result",
          "data": {
            "text/plain": [
              "Date.of.Birth                    object\n",
              "Employment.Type                  object\n",
              "DisbursalDate                    object\n",
              "PERFORM_CNS.SCORE.DESCRIPTION    object\n",
              "AVERAGE.ACCT.AGE                 object\n",
              "CREDIT.HISTORY.LENGTH            object\n",
              "dtype: object"
            ]
          },
          "metadata": {
            "tags": []
          },
          "execution_count": 33
        }
      ]
    },
    {
      "metadata": {
        "id": "ZGSeQFyXmPYw",
        "colab_type": "code",
        "colab": {
          "base_uri": "https://localhost:8080/",
          "height": 1071
        },
        "outputId": "4f861b30-c4a7-428b-d4a6-ddf66b1bf404"
      },
      "cell_type": "code",
      "source": [
        "train_Data['Date.of.Birth'].value_counts()"
      ],
      "execution_count": 40,
      "outputs": [
        {
          "output_type": "execute_result",
          "data": {
            "text/plain": [
              "01-01-88    2173\n",
              "01-01-90    2170\n",
              "01-01-87    2127\n",
              "01-01-86    2063\n",
              "01-01-85    2005\n",
              "01-01-91    1985\n",
              "01-01-89    1962\n",
              "01-01-93    1930\n",
              "01-01-92    1924\n",
              "01-01-95    1924\n",
              "01-01-94    1867\n",
              "01-01-83    1841\n",
              "01-01-80    1821\n",
              "01-01-84    1768\n",
              "01-01-81    1764\n",
              "01-01-96    1759\n",
              "01-01-82    1691\n",
              "01-01-78    1646\n",
              "01-01-75    1641\n",
              "01-01-97    1557\n",
              "01-01-76    1527\n",
              "01-01-77    1469\n",
              "01-01-79    1438\n",
              "01-01-73    1335\n",
              "01-01-74    1273\n",
              "01-01-70    1203\n",
              "01-01-71    1142\n",
              "01-01-72    1100\n",
              "01-01-68     911\n",
              "01-01-69     875\n",
              "            ... \n",
              "27-02-56       1\n",
              "23-10-60       1\n",
              "30-06-65       1\n",
              "19-03-61       1\n",
              "20-02-00       1\n",
              "06-05-63       1\n",
              "28-07-69       1\n",
              "08-06-55       1\n",
              "24-01-79       1\n",
              "22-05-57       1\n",
              "12-04-00       1\n",
              "25-07-60       1\n",
              "25-12-57       1\n",
              "29-09-58       1\n",
              "22-02-98       1\n",
              "12-05-55       1\n",
              "14-03-59       1\n",
              "15-02-57       1\n",
              "21-07-58       1\n",
              "29-04-64       1\n",
              "08-07-59       1\n",
              "16-07-57       1\n",
              "30-11-60       1\n",
              "02-07-57       1\n",
              "20-03-58       1\n",
              "26-02-67       1\n",
              "21-02-56       1\n",
              "08-01-57       1\n",
              "24-11-56       1\n",
              "23-11-55       1\n",
              "Name: Date.of.Birth, Length: 15433, dtype: int64"
            ]
          },
          "metadata": {
            "tags": []
          },
          "execution_count": 40
        }
      ]
    },
    {
      "metadata": {
        "id": "9DShGfYJmtTZ",
        "colab_type": "code",
        "colab": {
          "base_uri": "https://localhost:8080/",
          "height": 68
        },
        "outputId": "6484450b-cfeb-4e3e-e3a1-870295a4d4f4"
      },
      "cell_type": "code",
      "source": [
        "train_Data['Employment.Type'].value_counts()"
      ],
      "execution_count": 39,
      "outputs": [
        {
          "output_type": "execute_result",
          "data": {
            "text/plain": [
              "Self employed    127635\n",
              "Salaried          97858\n",
              "Name: Employment.Type, dtype: int64"
            ]
          },
          "metadata": {
            "tags": []
          },
          "execution_count": 39
        }
      ]
    },
    {
      "metadata": {
        "id": "ZZDnawF1nX6K",
        "colab_type": "code",
        "colab": {
          "base_uri": "https://localhost:8080/",
          "height": 1071
        },
        "outputId": "3c1f6ab4-4a7a-48b9-8672-555c75fcb4a4"
      },
      "cell_type": "code",
      "source": [
        "train_Data['DisbursalDate'].value_counts()"
      ],
      "execution_count": 41,
      "outputs": [
        {
          "output_type": "execute_result",
          "data": {
            "text/plain": [
              "31-10-18    8826\n",
              "24-10-18    6701\n",
              "31-08-18    6690\n",
              "23-10-18    6440\n",
              "26-10-18    6215\n",
              "25-10-18    5944\n",
              "22-10-18    5928\n",
              "30-10-18    5837\n",
              "30-08-18    4664\n",
              "29-10-18    4389\n",
              "27-10-18    4273\n",
              "29-08-18    3942\n",
              "20-09-18    3910\n",
              "14-09-18    3806\n",
              "28-09-18    3733\n",
              "29-09-18    3700\n",
              "21-10-18    3693\n",
              "28-08-18    3665\n",
              "19-09-18    3611\n",
              "30-09-18    3601\n",
              "20-10-18    3488\n",
              "21-09-18    3381\n",
              "13-10-18    3312\n",
              "25-09-18    3295\n",
              "17-08-18    3167\n",
              "27-09-18    3152\n",
              "16-08-18    3145\n",
              "26-09-18    3114\n",
              "22-08-18    3093\n",
              "15-10-18    3024\n",
              "            ... \n",
              "06-09-18    2029\n",
              "28-10-18    2028\n",
              "07-09-18    1987\n",
              "10-10-18    1906\n",
              "16-09-18    1804\n",
              "08-08-18    1794\n",
              "11-09-18    1790\n",
              "13-08-18    1783\n",
              "06-10-18    1763\n",
              "04-09-18    1726\n",
              "01-08-18    1708\n",
              "05-09-18    1699\n",
              "10-08-18    1692\n",
              "03-08-18    1666\n",
              "09-08-18    1653\n",
              "08-09-18    1576\n",
              "10-09-18    1539\n",
              "27-08-18    1517\n",
              "04-10-18    1490\n",
              "04-08-18    1411\n",
              "03-09-18    1406\n",
              "22-09-18    1401\n",
              "14-10-18    1351\n",
              "18-10-18    1203\n",
              "05-10-18    1149\n",
              "26-08-18     705\n",
              "12-08-18     572\n",
              "13-09-18     330\n",
              "05-08-18      42\n",
              "02-10-18      25\n",
              "Name: DisbursalDate, Length: 84, dtype: int64"
            ]
          },
          "metadata": {
            "tags": []
          },
          "execution_count": 41
        }
      ]
    },
    {
      "metadata": {
        "id": "3tstT4KHnFsL",
        "colab_type": "code",
        "colab": {
          "base_uri": "https://localhost:8080/",
          "height": 374
        },
        "outputId": "0811efe5-75b6-4642-d7e5-35c0cfb7efdf"
      },
      "cell_type": "code",
      "source": [
        "train_Data['PERFORM_CNS.SCORE.DESCRIPTION'].value_counts() "
      ],
      "execution_count": 42,
      "outputs": [
        {
          "output_type": "execute_result",
          "data": {
            "text/plain": [
              "No Bureau History Available                                116950\n",
              "C-Very Low Risk                                             16045\n",
              "A-Very Low Risk                                             14124\n",
              "D-Very Low Risk                                             11358\n",
              "B-Very Low Risk                                              9201\n",
              "M-Very High Risk                                             8776\n",
              "F-Low Risk                                                   8485\n",
              "K-High Risk                                                  8277\n",
              "H-Medium Risk                                                6855\n",
              "E-Low Risk                                                   5821\n",
              "I-Medium Risk                                                5557\n",
              "G-Low Risk                                                   3988\n",
              "Not Scored: Sufficient History Not Available                 3765\n",
              "J-High Risk                                                  3748\n",
              "Not Scored: Not Enough Info available on the customer        3672\n",
              "Not Scored: No Activity seen on the customer (Inactive)      2885\n",
              "Not Scored: No Updates available in last 36 months           1534\n",
              "L-Very High Risk                                             1134\n",
              "Not Scored: Only a Guarantor                                  976\n",
              "Not Scored: More than 50 active Accounts found                  3\n",
              "Name: PERFORM_CNS.SCORE.DESCRIPTION, dtype: int64"
            ]
          },
          "metadata": {
            "tags": []
          },
          "execution_count": 42
        }
      ]
    },
    {
      "metadata": {
        "id": "ZBAJtJcFq_L7",
        "colab_type": "code",
        "colab": {
          "base_uri": "https://localhost:8080/",
          "height": 1071
        },
        "outputId": "e0ef7b9a-6ec8-4119-9fb8-4bf8e424cec5"
      },
      "cell_type": "code",
      "source": [
        "train_Data['AVERAGE.ACCT.AGE'].value_counts() "
      ],
      "execution_count": 46,
      "outputs": [
        {
          "output_type": "execute_result",
          "data": {
            "text/plain": [
              "0yrs 0mon      119373\n",
              "0yrs 6mon        6028\n",
              "0yrs 7mon        5366\n",
              "0yrs 11mon       5237\n",
              "0yrs 10mon       5143\n",
              "1yrs 0mon        5031\n",
              "0yrs 9mon        5018\n",
              "0yrs 8mon        4892\n",
              "1yrs 1mon        4465\n",
              "0yrs 5mon        4354\n",
              "0yrs 4mon        4269\n",
              "1yrs 2mon        3941\n",
              "1yrs 3mon        3694\n",
              "0yrs 3mon        3570\n",
              "1yrs 4mon        3146\n",
              "1yrs 5mon        2980\n",
              "0yrs 2mon        2933\n",
              "1yrs 6mon        2782\n",
              "1yrs 7mon        2477\n",
              "1yrs 8mon        2216\n",
              "0yrs 1mon        2207\n",
              "1yrs 9mon        2037\n",
              "1yrs 10mon       1978\n",
              "2yrs 0mon        1963\n",
              "2yrs 1mon        1945\n",
              "1yrs 11mon       1903\n",
              "2yrs 2mon        1478\n",
              "2yrs 3mon        1270\n",
              "2yrs 4mon        1241\n",
              "2yrs 6mon        1165\n",
              "                ...  \n",
              "14yrs 7mon          2\n",
              "13yrs 10mon         2\n",
              "13yrs 7mon          2\n",
              "13yrs 4mon          2\n",
              "15yrs 0mon          2\n",
              "14yrs 3mon          2\n",
              "13yrs 3mon          2\n",
              "12yrs 2mon          2\n",
              "17yrs 10mon         2\n",
              "13yrs 11mon         1\n",
              "24yrs 4mon          1\n",
              "15yrs 8mon          1\n",
              "16yrs 0mon          1\n",
              "14yrs 11mon         1\n",
              "14yrs 1mon          1\n",
              "16yrs 11mon         1\n",
              "16yrs 3mon          1\n",
              "16yrs 7mon          1\n",
              "22yrs 6mon          1\n",
              "18yrs 11mon         1\n",
              "14yrs 5mon          1\n",
              "15yrs 3mon          1\n",
              "30yrs 9mon          1\n",
              "15yrs 4mon          1\n",
              "14yrs 6mon          1\n",
              "14yrs 2mon          1\n",
              "16yrs 5mon          1\n",
              "15yrs 11mon         1\n",
              "15yrs 2mon          1\n",
              "13yrs 2mon          1\n",
              "Name: AVERAGE.ACCT.AGE, Length: 192, dtype: int64"
            ]
          },
          "metadata": {
            "tags": []
          },
          "execution_count": 46
        }
      ]
    },
    {
      "metadata": {
        "id": "M2wEGqExsafh",
        "colab_type": "code",
        "colab": {
          "base_uri": "https://localhost:8080/",
          "height": 1071
        },
        "outputId": "4fa2a26b-094b-4ed1-df13-ae8f589ee895"
      },
      "cell_type": "code",
      "source": [
        "train_Data['CREDIT.HISTORY.LENGTH'].value_counts() "
      ],
      "execution_count": 47,
      "outputs": [
        {
          "output_type": "execute_result",
          "data": {
            "text/plain": [
              "0yrs 0mon      119127\n",
              "0yrs 6mon        4761\n",
              "2yrs 1mon        4745\n",
              "0yrs 7mon        4017\n",
              "2yrs 0mon        3833\n",
              "1yrs 0mon        3389\n",
              "1yrs 1mon        3024\n",
              "0yrs 11mon       2627\n",
              "0yrs 8mon        2459\n",
              "0yrs 9mon        2403\n",
              "0yrs 10mon       2367\n",
              "1yrs 11mon       2364\n",
              "1yrs 3mon        2268\n",
              "1yrs 2mon        2203\n",
              "1yrs 6mon        2176\n",
              "1yrs 7mon        2167\n",
              "0yrs 4mon        2143\n",
              "0yrs 5mon        2086\n",
              "0yrs 3mon        1982\n",
              "0yrs 2mon        1977\n",
              "1yrs 4mon        1882\n",
              "1yrs 5mon        1868\n",
              "0yrs 1mon        1853\n",
              "1yrs 10mon       1818\n",
              "1yrs 9mon        1811\n",
              "2yrs 2mon        1793\n",
              "3yrs 0mon        1682\n",
              "1yrs 8mon        1643\n",
              "3yrs 1mon        1550\n",
              "2yrs 6mon        1507\n",
              "                ...  \n",
              "29yrs 1mon          1\n",
              "20yrs 4mon          1\n",
              "25yrs 0mon          1\n",
              "27yrs 3mon          1\n",
              "19yrs 8mon          1\n",
              "28yrs 3mon          1\n",
              "21yrs 11mon         1\n",
              "26yrs 3mon          1\n",
              "30yrs 9mon          1\n",
              "24yrs 2mon          1\n",
              "22yrs 4mon          1\n",
              "23yrs 3mon          1\n",
              "34yrs 5mon          1\n",
              "24yrs 8mon          1\n",
              "20yrs 0mon          1\n",
              "25yrs 8mon          1\n",
              "24yrs 0mon          1\n",
              "19yrs 1mon          1\n",
              "21yrs 8mon          1\n",
              "28yrs 1mon          1\n",
              "20yrs 9mon          1\n",
              "28yrs 7mon          1\n",
              "35yrs 3mon          1\n",
              "22yrs 0mon          1\n",
              "18yrs 4mon          1\n",
              "19yrs 0mon          1\n",
              "26yrs 8mon          1\n",
              "39yrs 0mon          1\n",
              "21yrs 9mon          1\n",
              "21yrs 1mon          1\n",
              "Name: CREDIT.HISTORY.LENGTH, Length: 294, dtype: int64"
            ]
          },
          "metadata": {
            "tags": []
          },
          "execution_count": 47
        }
      ]
    },
    {
      "metadata": {
        "id": "YJeHtWFDsxaM",
        "colab_type": "code",
        "outputId": "b17e9c31-b9a8-44ad-9264-3b19ae312646",
        "colab": {
          "base_uri": "https://localhost:8080/",
          "height": 34
        }
      },
      "cell_type": "code",
      "source": [
        "train_Data.shape,test_Data.shape\n"
      ],
      "execution_count": 10,
      "outputs": [
        {
          "output_type": "execute_result",
          "data": {
            "text/plain": [
              "((233154, 41), (112392, 40))"
            ]
          },
          "metadata": {
            "tags": []
          },
          "execution_count": 10
        }
      ]
    },
    {
      "metadata": {
        "id": "TnkaOOJOtPQV",
        "colab_type": "code",
        "outputId": "490e8614-7344-4682-c44c-fff6776d5dfb",
        "colab": {
          "base_uri": "https://localhost:8080/",
          "height": 301
        }
      },
      "cell_type": "code",
      "source": [
        "plt.figure()\n",
        "sns.distplot(train_Data['loan_default'])"
      ],
      "execution_count": 0,
      "outputs": [
        {
          "output_type": "execute_result",
          "data": {
            "text/plain": [
              "<matplotlib.axes._subplots.AxesSubplot at 0x7fc94d02a828>"
            ]
          },
          "metadata": {
            "tags": []
          },
          "execution_count": 16
        },
        {
          "output_type": "display_data",
          "data": {
            "image/png": "[encoded data removed]",
            "text/plain": [
              "<Figure size 432x288 with 1 Axes>"
            ]
          },
          "metadata": {
            "tags": []
          }
        }
      ]
    },
    {
      "metadata": {
        "id": "HGn2EKMWuxEA",
        "colab_type": "code",
        "outputId": "690c6a1d-242d-4176-f831-02715e045157",
        "colab": {
          "base_uri": "https://localhost:8080/",
          "height": 358
        }
      },
      "cell_type": "code",
      "source": [
        "plt.figure(1)\n",
        "plt.subplot(121)\n",
        "sns.distplot(train_Data['loan_default'])\n",
        "plt.subplot(122)\n",
        "train_Data['loan_default'].plot.box(figsize=(16,5))\n",
        "plt.show()\n"
      ],
      "execution_count": 0,
      "outputs": [
        {
          "output_type": "display_data",
          "data": {
            "image/png": "[encoded data removed]",
            "text/plain": [
              "<Figure size 1152x360 with 2 Axes>"
            ]
          },
          "metadata": {
            "tags": []
          }
        }
      ]
    },
    {
      "metadata": {
        "id": "13WNU-SuwH2q",
        "colab_type": "code",
        "outputId": "a89f9df0-9665-4750-a1bd-bd96d988b4c6",
        "colab": {
          "base_uri": "https://localhost:8080/",
          "height": 282
        }
      },
      "cell_type": "code",
      "source": [
        "train_Data['loan_default'].value_counts(normalize=True).plot.bar()"
      ],
      "execution_count": 0,
      "outputs": [
        {
          "output_type": "execute_result",
          "data": {
            "text/plain": [
              "<matplotlib.axes._subplots.AxesSubplot at 0x7fc94d2c1d30>"
            ]
          },
          "metadata": {
            "tags": []
          },
          "execution_count": 21
        },
        {
          "output_type": "display_data",
          "data": {
            "image/png": "[encoded data removed]",
            "text/plain": [
              "<Figure size 432x288 with 1 Axes>"
            ]
          },
          "metadata": {
            "tags": []
          }
        }
      ]
    },
    {
      "metadata": {
        "id": "Ek2c-RStbOU3",
        "colab_type": "code",
        "colab": {
          "base_uri": "https://localhost:8080/",
          "height": 136
        },
        "outputId": "31a3d976-edc3-4024-8ce5-aaf81a60702c"
      },
      "cell_type": "code",
      "source": [
        "train_Data.select_dtypes(include=['object']).dtypes"
      ],
      "execution_count": 16,
      "outputs": [
        {
          "output_type": "execute_result",
          "data": {
            "text/plain": [
              "Date.of.Birth                    object\n",
              "Employment.Type                  object\n",
              "DisbursalDate                    object\n",
              "PERFORM_CNS.SCORE.DESCRIPTION    object\n",
              "AVERAGE.ACCT.AGE                 object\n",
              "CREDIT.HISTORY.LENGTH            object\n",
              "dtype: object"
            ]
          },
          "metadata": {
            "tags": []
          },
          "execution_count": 16
        }
      ]
    },
    {
      "metadata": {
        "id": "3N0gct-CZVaP",
        "colab_type": "code",
        "colab": {
          "base_uri": "https://localhost:8080/",
          "height": 895
        },
        "outputId": "795ae950-b0aa-42bf-a653-be8159c4fa15"
      },
      "cell_type": "code",
      "source": [
        "plt.figure(2) \n",
        "plt.subplot(221) \n",
        "train_Data['Date.of.Birth'].value_counts(normalize=True).plot.bar(figsize=(20,10), title= 'DOB') \n",
        "plt.subplot(222) \n",
        "train_Data['Employment.Type'].value_counts(normalize=True).plot.bar(title= 'Emp_Type') \n",
        "plt.subplot(223) \n",
        "train_Data['DisbursalDate'].value_counts(normalize=True).plot.bar(title= 'Ds_date') \n",
        "plt.subplot(224) \n",
        "train_Data['PERFORM_CNS.SCORE.DESCRIPTION'].value_counts(normalize=True).plot.bar(title= 'Perform_Cns') \n",
        "#plt.subplot(225) \n",
        "#train_Data['AVERAGE.ACCT.AGE'].value_counts(normalize=True).plot.bar(title= 'Average Acct Age') \n",
        "#plt.subplot(226) \n",
        "#train_data['CREDIT.HISTORY.LENGTH'].value_counts(normalize=True).plot.bar(title= 'credit History ln') \n",
        "plt.show()"
      ],
      "execution_count": 20,
      "outputs": [
        {
          "output_type": "display_data",
          "data": {
            "image/png": "[encoded data removed]",
            "text/plain": [
              "<Figure size 1440x720 with 4 Axes>"
            ]
          },
          "metadata": {
            "tags": []
          }
        }
      ]
    },
    {
      "metadata": {
        "id": "Arqg3NYDjEbR",
        "colab_type": "code",
        "colab": {
          "base_uri": "https://localhost:8080/",
          "height": 363
        },
        "outputId": "9a27fcbc-3dc1-4c4c-8d15-3da2f23ad4ec"
      },
      "cell_type": "code",
      "source": [
        "plt.figure(2) \n",
        "plt.subplot(221) \n",
        "train_Data['Date.of.Birth'].value_counts(normalize=True).plot.bar(figsize=(20,10), title= 'DOB') "
      ],
      "execution_count": 21,
      "outputs": [
        {
          "output_type": "execute_result",
          "data": {
            "text/plain": [
              "<matplotlib.axes._subplots.AxesSubplot at 0x7fd131dd3ef0>"
            ]
          },
          "metadata": {
            "tags": []
          },
          "execution_count": 21
        },
        {
          "output_type": "display_data",
          "data": {
            "image/png": "[encoded data removed]",
            "text/plain": [
              "<Figure size 1440x720 with 1 Axes>"
            ]
          },
          "metadata": {
            "tags": []
          }
        }
      ]
    },
    {
      "metadata": {
        "id": "tVul9t0TgbVv",
        "colab_type": "code",
        "colab": {}
      },
      "cell_type": "code",
      "source": [
        "\n"
      ],
      "execution_count": 0,
      "outputs": []
    },
    {
      "metadata": {
        "id": "0p7nO9HykbMZ",
        "colab_type": "code",
        "colab": {}
      },
      "cell_type": "code",
      "source": [
        ""
      ],
      "execution_count": 0,
      "outputs": []
    },
    {
      "metadata": {
        "id": "EZRMGopprXB5",
        "colab_type": "code",
        "colab": {}
      },
      "cell_type": "code",
      "source": [
        "# getting the shapes of the datasets\n",
        "print(\"Shape of Train :\", train_Data.shape)\n",
        "print(\"Shape of Test :\", test_Data.shape)"
      ],
      "execution_count": 0,
      "outputs": []
    }
  ]
}